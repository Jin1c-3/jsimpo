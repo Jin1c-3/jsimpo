{
 "cells": [
  {
   "cell_type": "code",
   "execution_count": 1,
   "metadata": {},
   "outputs": [],
   "source": [
    "import json\n",
    "import js2py\n",
    "import os, sys\n",
    "import divide_ob\n",
    "import copy\n",
    "import simulation\n",
    "import time"
   ]
  },
  {
   "cell_type": "code",
   "execution_count": 2,
   "metadata": {},
   "outputs": [],
   "source": [
    "def jsjiami_recover():\n",
    "    names = os.listdir('./jsdata/rand_jsjiami')\n",
    "    totTime = [[], [], [], [], []]\n",
    "    counter = 0\n",
    "    for name in names:\n",
    "        if not name.endswith('.js'):\n",
    "            continue\n",
    "        try:\n",
    "            tempTime = simulation.simulate(name)\n",
    "            totTime[0].append(name)\n",
    "            for i in range(4):\n",
    "                totTime[i].append(tempTime[i])\n",
    "                counter = counter + 1\n",
    "        except:\n",
    "            print(f'Fail {name}')\n",
    "    print('Res :')\n",
    "    print(totTime)\n",
    "    print(counter)\n",
    "    return totTime\n"
   ]
  },
  {
   "cell_type": "code",
   "execution_count": null,
   "metadata": {},
   "outputs": [],
   "source": [
    "jsjiami_rec = jsjiami_recover()"
   ]
  },
  {
   "cell_type": "code",
   "execution_count": 6,
   "metadata": {},
   "outputs": [],
   "source": [
    "import pandas as pd"
   ]
  },
  {
   "cell_type": "code",
   "execution_count": 23,
   "metadata": {},
   "outputs": [],
   "source": [
    "jsjiami_df = pd.DataFrame({'name': name, 't0': t0, 't1': jsjiami_rec[1],\\\n",
    "                           't2': jsjiami_rec[2], 't3': jsjiami_rec[3]})"
   ]
  },
  {
   "cell_type": "code",
   "execution_count": 26,
   "metadata": {},
   "outputs": [],
   "source": [
    "jsjiami_df.to_csv('./time_new/jsjiami_normal.csv', index=False, encoding='utf-8')"
   ]
  },
  {
   "cell_type": "code",
   "execution_count": 21,
   "metadata": {},
   "outputs": [],
   "source": [
    "name = [jsjiami_rec[0][i] for i in range(len(jsjiami_rec[0])) if i % 2 == 0]\n",
    "t0 = [jsjiami_rec[0][i] for i in range(len(jsjiami_rec[0])) if i % 2 == 1]"
   ]
  },
  {
   "cell_type": "code",
   "execution_count": null,
   "metadata": {},
   "outputs": [],
   "source": []
  },
  {
   "cell_type": "code",
   "execution_count": 27,
   "metadata": {},
   "outputs": [],
   "source": [
    "from tqdm import tqdm"
   ]
  },
  {
   "cell_type": "code",
   "execution_count": null,
   "metadata": {},
   "outputs": [],
   "source": []
  },
  {
   "cell_type": "code",
   "execution_count": 36,
   "metadata": {},
   "outputs": [],
   "source": [
    "def ob_recover():\n",
    "    names = os.listdir('./jsdata/rand_ob')\n",
    "    totTime = [[], [], [], [], [], [], []]\n",
    "    counter = 0\n",
    "    for name in tqdm(names):\n",
    "        if not name.endswith('.js'):\n",
    "            continue\n",
    "        try:\n",
    "            tempTime = simulation.simulate2(name)\n",
    "            totTime[0].append(name)\n",
    "            # tempTime = simulation.simulate(name)\n",
    "            for i in range(6):\n",
    "                totTime[i + 1].append(tempTime[i])\n",
    "                counter = counter + 1\n",
    "        except:\n",
    "            print(name)\n",
    "    print('Res :')\n",
    "#     print(totTime)\n",
    "    print(counter)\n",
    "    return totTime"
   ]
  },
  {
   "cell_type": "code",
   "execution_count": null,
   "metadata": {},
   "outputs": [],
   "source": [
    "job_rec = ob_recover()"
   ]
  },
  {
   "cell_type": "code",
   "execution_count": null,
   "metadata": {},
   "outputs": [],
   "source": [
    "jon_rec"
   ]
  },
  {
   "cell_type": "code",
   "execution_count": null,
   "metadata": {},
   "outputs": [],
   "source": [
    "job_rec"
   ]
  },
  {
   "cell_type": "code",
   "execution_count": 39,
   "metadata": {},
   "outputs": [],
   "source": [
    "job_df = pd.DataFrame({'name': job_rec[0], 't1': job_rec[1], 't2': job_rec[2], 't3': job_rec[3], \\\n",
    "                      't4': job_rec[4], 't5': job_rec[5], 't6': job_rec[6]})"
   ]
  },
  {
   "cell_type": "code",
   "execution_count": 42,
   "metadata": {},
   "outputs": [
    {
     "data": {
      "text/html": [
       "<div>\n",
       "<style scoped>\n",
       "    .dataframe tbody tr th:only-of-type {\n",
       "        vertical-align: middle;\n",
       "    }\n",
       "\n",
       "    .dataframe tbody tr th {\n",
       "        vertical-align: top;\n",
       "    }\n",
       "\n",
       "    .dataframe thead th {\n",
       "        text-align: right;\n",
       "    }\n",
       "</style>\n",
       "<table border=\"1\" class=\"dataframe\">\n",
       "  <thead>\n",
       "    <tr style=\"text-align: right;\">\n",
       "      <th></th>\n",
       "      <th>t1</th>\n",
       "      <th>t2</th>\n",
       "      <th>t3</th>\n",
       "      <th>t4</th>\n",
       "      <th>t5</th>\n",
       "      <th>t6</th>\n",
       "    </tr>\n",
       "  </thead>\n",
       "  <tbody>\n",
       "    <tr>\n",
       "      <th>count</th>\n",
       "      <td>652.000000</td>\n",
       "      <td>652.000000</td>\n",
       "      <td>652.000000</td>\n",
       "      <td>652.000000</td>\n",
       "      <td>652.000000</td>\n",
       "      <td>652.000000</td>\n",
       "    </tr>\n",
       "    <tr>\n",
       "      <th>mean</th>\n",
       "      <td>0.092727</td>\n",
       "      <td>0.100163</td>\n",
       "      <td>0.178559</td>\n",
       "      <td>0.088139</td>\n",
       "      <td>0.088821</td>\n",
       "      <td>0.158102</td>\n",
       "    </tr>\n",
       "    <tr>\n",
       "      <th>std</th>\n",
       "      <td>0.023051</td>\n",
       "      <td>0.067430</td>\n",
       "      <td>0.053316</td>\n",
       "      <td>0.025976</td>\n",
       "      <td>0.029222</td>\n",
       "      <td>0.041164</td>\n",
       "    </tr>\n",
       "    <tr>\n",
       "      <th>min</th>\n",
       "      <td>0.069880</td>\n",
       "      <td>0.069458</td>\n",
       "      <td>0.134294</td>\n",
       "      <td>0.068590</td>\n",
       "      <td>0.066456</td>\n",
       "      <td>0.128807</td>\n",
       "    </tr>\n",
       "    <tr>\n",
       "      <th>25%</th>\n",
       "      <td>0.083602</td>\n",
       "      <td>0.082167</td>\n",
       "      <td>0.159832</td>\n",
       "      <td>0.079155</td>\n",
       "      <td>0.078874</td>\n",
       "      <td>0.143030</td>\n",
       "    </tr>\n",
       "    <tr>\n",
       "      <th>50%</th>\n",
       "      <td>0.087349</td>\n",
       "      <td>0.086059</td>\n",
       "      <td>0.165828</td>\n",
       "      <td>0.082279</td>\n",
       "      <td>0.082079</td>\n",
       "      <td>0.147930</td>\n",
       "    </tr>\n",
       "    <tr>\n",
       "      <th>75%</th>\n",
       "      <td>0.093543</td>\n",
       "      <td>0.094109</td>\n",
       "      <td>0.176018</td>\n",
       "      <td>0.087625</td>\n",
       "      <td>0.088630</td>\n",
       "      <td>0.157701</td>\n",
       "    </tr>\n",
       "    <tr>\n",
       "      <th>max</th>\n",
       "      <td>0.311877</td>\n",
       "      <td>0.951657</td>\n",
       "      <td>0.677062</td>\n",
       "      <td>0.458625</td>\n",
       "      <td>0.481780</td>\n",
       "      <td>0.524777</td>\n",
       "    </tr>\n",
       "  </tbody>\n",
       "</table>\n",
       "</div>"
      ],
      "text/plain": [
       "               t1          t2          t3          t4          t5          t6\n",
       "count  652.000000  652.000000  652.000000  652.000000  652.000000  652.000000\n",
       "mean     0.092727    0.100163    0.178559    0.088139    0.088821    0.158102\n",
       "std      0.023051    0.067430    0.053316    0.025976    0.029222    0.041164\n",
       "min      0.069880    0.069458    0.134294    0.068590    0.066456    0.128807\n",
       "25%      0.083602    0.082167    0.159832    0.079155    0.078874    0.143030\n",
       "50%      0.087349    0.086059    0.165828    0.082279    0.082079    0.147930\n",
       "75%      0.093543    0.094109    0.176018    0.087625    0.088630    0.157701\n",
       "max      0.311877    0.951657    0.677062    0.458625    0.481780    0.524777"
      ]
     },
     "execution_count": 42,
     "metadata": {},
     "output_type": "execute_result"
    }
   ],
   "source": [
    "job_df.describe()"
   ]
  },
  {
   "cell_type": "code",
   "execution_count": 43,
   "metadata": {},
   "outputs": [],
   "source": [
    "job_df.to_csv('time_new/job_normal.csv', index = False, encoding='utf-8')"
   ]
  },
  {
   "cell_type": "code",
   "execution_count": 61,
   "metadata": {},
   "outputs": [],
   "source": [
    "df = pd.read_csv('jsdata/res_kernel_ob_cmp_combine.csv')"
   ]
  },
  {
   "cell_type": "code",
   "execution_count": 51,
   "metadata": {},
   "outputs": [
    {
     "data": {
      "text/html": [
       "<div>\n",
       "<style scoped>\n",
       "    .dataframe tbody tr th:only-of-type {\n",
       "        vertical-align: middle;\n",
       "    }\n",
       "\n",
       "    .dataframe tbody tr th {\n",
       "        vertical-align: top;\n",
       "    }\n",
       "\n",
       "    .dataframe thead th {\n",
       "        text-align: right;\n",
       "    }\n",
       "</style>\n",
       "<table border=\"1\" class=\"dataframe\">\n",
       "  <thead>\n",
       "    <tr style=\"text-align: right;\">\n",
       "      <th></th>\n",
       "      <th>FileName</th>\n",
       "      <th>jsjiami_unweighted</th>\n",
       "      <th>jsjiami_jsdec</th>\n",
       "      <th>jsjiami_illu</th>\n",
       "      <th>jsjiami_sd</th>\n",
       "      <th>jsjiami_recover_unweighted</th>\n",
       "    </tr>\n",
       "  </thead>\n",
       "  <tbody>\n",
       "    <tr>\n",
       "      <th>0</th>\n",
       "      <td>100063.js</td>\n",
       "      <td>-1.000000</td>\n",
       "      <td>-1.000000</td>\n",
       "      <td>-1.000000</td>\n",
       "      <td>-1.000000</td>\n",
       "      <td>-1.000000</td>\n",
       "    </tr>\n",
       "    <tr>\n",
       "      <th>1</th>\n",
       "      <td>100094.js</td>\n",
       "      <td>0.168232</td>\n",
       "      <td>0.175863</td>\n",
       "      <td>0.179124</td>\n",
       "      <td>0.093250</td>\n",
       "      <td>0.645497</td>\n",
       "    </tr>\n",
       "    <tr>\n",
       "      <th>2</th>\n",
       "      <td>100111.js</td>\n",
       "      <td>-1.000000</td>\n",
       "      <td>-1.000000</td>\n",
       "      <td>-1.000000</td>\n",
       "      <td>-1.000000</td>\n",
       "      <td>-1.000000</td>\n",
       "    </tr>\n",
       "    <tr>\n",
       "      <th>3</th>\n",
       "      <td>100217.js</td>\n",
       "      <td>-1.000000</td>\n",
       "      <td>-1.000000</td>\n",
       "      <td>-1.000000</td>\n",
       "      <td>-1.000000</td>\n",
       "      <td>-1.000000</td>\n",
       "    </tr>\n",
       "    <tr>\n",
       "      <th>4</th>\n",
       "      <td>100374.js</td>\n",
       "      <td>-1.000000</td>\n",
       "      <td>-1.000000</td>\n",
       "      <td>-1.000000</td>\n",
       "      <td>-1.000000</td>\n",
       "      <td>-1.000000</td>\n",
       "    </tr>\n",
       "    <tr>\n",
       "      <th>...</th>\n",
       "      <td>...</td>\n",
       "      <td>...</td>\n",
       "      <td>...</td>\n",
       "      <td>...</td>\n",
       "      <td>...</td>\n",
       "      <td>...</td>\n",
       "    </tr>\n",
       "    <tr>\n",
       "      <th>997</th>\n",
       "      <td>99912.js</td>\n",
       "      <td>-1.000000</td>\n",
       "      <td>-1.000000</td>\n",
       "      <td>-1.000000</td>\n",
       "      <td>-1.000000</td>\n",
       "      <td>-1.000000</td>\n",
       "    </tr>\n",
       "    <tr>\n",
       "      <th>998</th>\n",
       "      <td>99925.js</td>\n",
       "      <td>-1.000000</td>\n",
       "      <td>-1.000000</td>\n",
       "      <td>-1.000000</td>\n",
       "      <td>-1.000000</td>\n",
       "      <td>-1.000000</td>\n",
       "    </tr>\n",
       "    <tr>\n",
       "      <th>999</th>\n",
       "      <td>99957.js</td>\n",
       "      <td>-1.000000</td>\n",
       "      <td>-1.000000</td>\n",
       "      <td>-1.000000</td>\n",
       "      <td>-1.000000</td>\n",
       "      <td>-1.000000</td>\n",
       "    </tr>\n",
       "    <tr>\n",
       "      <th>1000</th>\n",
       "      <td>99986.js</td>\n",
       "      <td>0.227397</td>\n",
       "      <td>0.238008</td>\n",
       "      <td>0.236028</td>\n",
       "      <td>0.120886</td>\n",
       "      <td>0.617213</td>\n",
       "    </tr>\n",
       "    <tr>\n",
       "      <th>1001</th>\n",
       "      <td>99988.js</td>\n",
       "      <td>0.388393</td>\n",
       "      <td>-1.000000</td>\n",
       "      <td>0.401935</td>\n",
       "      <td>0.100288</td>\n",
       "      <td>0.604265</td>\n",
       "    </tr>\n",
       "  </tbody>\n",
       "</table>\n",
       "<p>1002 rows × 6 columns</p>\n",
       "</div>"
      ],
      "text/plain": [
       "       FileName  jsjiami_unweighted  jsjiami_jsdec  jsjiami_illu  jsjiami_sd  \\\n",
       "0     100063.js           -1.000000      -1.000000     -1.000000   -1.000000   \n",
       "1     100094.js            0.168232       0.175863      0.179124    0.093250   \n",
       "2     100111.js           -1.000000      -1.000000     -1.000000   -1.000000   \n",
       "3     100217.js           -1.000000      -1.000000     -1.000000   -1.000000   \n",
       "4     100374.js           -1.000000      -1.000000     -1.000000   -1.000000   \n",
       "...         ...                 ...            ...           ...         ...   \n",
       "997    99912.js           -1.000000      -1.000000     -1.000000   -1.000000   \n",
       "998    99925.js           -1.000000      -1.000000     -1.000000   -1.000000   \n",
       "999    99957.js           -1.000000      -1.000000     -1.000000   -1.000000   \n",
       "1000   99986.js            0.227397       0.238008      0.236028    0.120886   \n",
       "1001   99988.js            0.388393      -1.000000      0.401935    0.100288   \n",
       "\n",
       "      jsjiami_recover_unweighted  \n",
       "0                      -1.000000  \n",
       "1                       0.645497  \n",
       "2                      -1.000000  \n",
       "3                      -1.000000  \n",
       "4                      -1.000000  \n",
       "...                          ...  \n",
       "997                    -1.000000  \n",
       "998                    -1.000000  \n",
       "999                    -1.000000  \n",
       "1000                    0.617213  \n",
       "1001                    0.604265  \n",
       "\n",
       "[1002 rows x 6 columns]"
      ]
     },
     "execution_count": 51,
     "metadata": {},
     "output_type": "execute_result"
    }
   ],
   "source": [
    "df"
   ]
  },
  {
   "cell_type": "code",
   "execution_count": 63,
   "metadata": {},
   "outputs": [
    {
     "data": {
      "text/plain": [
       "17"
      ]
     },
     "execution_count": 63,
     "metadata": {},
     "output_type": "execute_result"
    }
   ],
   "source": [
    "len(df[(df.jsjiami_recover_unweighted == df.jsjiami_unweighted) & (df.jsjiami_unweighted > -0.5)])"
   ]
  },
  {
   "cell_type": "code",
   "execution_count": 62,
   "metadata": {},
   "outputs": [
    {
     "data": {
      "text/plain": [
       "352"
      ]
     },
     "execution_count": 62,
     "metadata": {},
     "output_type": "execute_result"
    }
   ],
   "source": [
    "len(df[(df.jsjiami_recover_unweighted == df.jsjiami_unweighted) ])"
   ]
  },
  {
   "cell_type": "code",
   "execution_count": 64,
   "metadata": {},
   "outputs": [
    {
     "data": {
      "text/html": [
       "<div>\n",
       "<style scoped>\n",
       "    .dataframe tbody tr th:only-of-type {\n",
       "        vertical-align: middle;\n",
       "    }\n",
       "\n",
       "    .dataframe tbody tr th {\n",
       "        vertical-align: top;\n",
       "    }\n",
       "\n",
       "    .dataframe thead th {\n",
       "        text-align: right;\n",
       "    }\n",
       "</style>\n",
       "<table border=\"1\" class=\"dataframe\">\n",
       "  <thead>\n",
       "    <tr style=\"text-align: right;\">\n",
       "      <th></th>\n",
       "      <th>name</th>\n",
       "      <th>t1</th>\n",
       "      <th>t2</th>\n",
       "      <th>t3</th>\n",
       "      <th>t4</th>\n",
       "      <th>t5</th>\n",
       "      <th>t6</th>\n",
       "    </tr>\n",
       "  </thead>\n",
       "  <tbody>\n",
       "    <tr>\n",
       "      <th>0</th>\n",
       "      <td>79119.js-ob.js</td>\n",
       "      <td>0.095942</td>\n",
       "      <td>0.082978</td>\n",
       "      <td>0.166080</td>\n",
       "      <td>0.078081</td>\n",
       "      <td>0.079047</td>\n",
       "      <td>0.161802</td>\n",
       "    </tr>\n",
       "    <tr>\n",
       "      <th>1</th>\n",
       "      <td>5565.js-ob.js</td>\n",
       "      <td>0.084874</td>\n",
       "      <td>0.082335</td>\n",
       "      <td>0.160078</td>\n",
       "      <td>0.079837</td>\n",
       "      <td>0.079760</td>\n",
       "      <td>0.147221</td>\n",
       "    </tr>\n",
       "    <tr>\n",
       "      <th>2</th>\n",
       "      <td>39575.js-ob.js</td>\n",
       "      <td>0.096810</td>\n",
       "      <td>0.084090</td>\n",
       "      <td>0.165880</td>\n",
       "      <td>0.080390</td>\n",
       "      <td>0.082372</td>\n",
       "      <td>0.140623</td>\n",
       "    </tr>\n",
       "    <tr>\n",
       "      <th>3</th>\n",
       "      <td>15292.js-ob.js</td>\n",
       "      <td>0.086917</td>\n",
       "      <td>0.077158</td>\n",
       "      <td>0.141350</td>\n",
       "      <td>0.076515</td>\n",
       "      <td>0.069244</td>\n",
       "      <td>0.132750</td>\n",
       "    </tr>\n",
       "    <tr>\n",
       "      <th>4</th>\n",
       "      <td>56064.js-ob.js</td>\n",
       "      <td>0.093281</td>\n",
       "      <td>0.085971</td>\n",
       "      <td>0.167782</td>\n",
       "      <td>0.082373</td>\n",
       "      <td>0.085484</td>\n",
       "      <td>0.144796</td>\n",
       "    </tr>\n",
       "    <tr>\n",
       "      <th>...</th>\n",
       "      <td>...</td>\n",
       "      <td>...</td>\n",
       "      <td>...</td>\n",
       "      <td>...</td>\n",
       "      <td>...</td>\n",
       "      <td>...</td>\n",
       "      <td>...</td>\n",
       "    </tr>\n",
       "    <tr>\n",
       "      <th>647</th>\n",
       "      <td>67981.js-ob.js</td>\n",
       "      <td>0.084370</td>\n",
       "      <td>0.081296</td>\n",
       "      <td>0.155562</td>\n",
       "      <td>0.085528</td>\n",
       "      <td>0.136740</td>\n",
       "      <td>0.145559</td>\n",
       "    </tr>\n",
       "    <tr>\n",
       "      <th>648</th>\n",
       "      <td>61618.js-ob.js</td>\n",
       "      <td>0.078966</td>\n",
       "      <td>0.075030</td>\n",
       "      <td>0.155276</td>\n",
       "      <td>0.085995</td>\n",
       "      <td>0.084923</td>\n",
       "      <td>0.146360</td>\n",
       "    </tr>\n",
       "    <tr>\n",
       "      <th>649</th>\n",
       "      <td>20473.js-ob.js</td>\n",
       "      <td>0.079269</td>\n",
       "      <td>0.080009</td>\n",
       "      <td>0.163280</td>\n",
       "      <td>0.084805</td>\n",
       "      <td>0.081750</td>\n",
       "      <td>0.147788</td>\n",
       "    </tr>\n",
       "    <tr>\n",
       "      <th>650</th>\n",
       "      <td>1281.js-ob.js</td>\n",
       "      <td>0.147729</td>\n",
       "      <td>0.252718</td>\n",
       "      <td>0.294765</td>\n",
       "      <td>0.139337</td>\n",
       "      <td>0.156037</td>\n",
       "      <td>0.420435</td>\n",
       "    </tr>\n",
       "    <tr>\n",
       "      <th>651</th>\n",
       "      <td>80055.js-ob.js</td>\n",
       "      <td>0.124275</td>\n",
       "      <td>0.164882</td>\n",
       "      <td>0.275069</td>\n",
       "      <td>0.113478</td>\n",
       "      <td>0.112061</td>\n",
       "      <td>0.198438</td>\n",
       "    </tr>\n",
       "  </tbody>\n",
       "</table>\n",
       "<p>652 rows × 7 columns</p>\n",
       "</div>"
      ],
      "text/plain": [
       "               name        t1        t2        t3        t4        t5  \\\n",
       "0    79119.js-ob.js  0.095942  0.082978  0.166080  0.078081  0.079047   \n",
       "1     5565.js-ob.js  0.084874  0.082335  0.160078  0.079837  0.079760   \n",
       "2    39575.js-ob.js  0.096810  0.084090  0.165880  0.080390  0.082372   \n",
       "3    15292.js-ob.js  0.086917  0.077158  0.141350  0.076515  0.069244   \n",
       "4    56064.js-ob.js  0.093281  0.085971  0.167782  0.082373  0.085484   \n",
       "..              ...       ...       ...       ...       ...       ...   \n",
       "647  67981.js-ob.js  0.084370  0.081296  0.155562  0.085528  0.136740   \n",
       "648  61618.js-ob.js  0.078966  0.075030  0.155276  0.085995  0.084923   \n",
       "649  20473.js-ob.js  0.079269  0.080009  0.163280  0.084805  0.081750   \n",
       "650   1281.js-ob.js  0.147729  0.252718  0.294765  0.139337  0.156037   \n",
       "651  80055.js-ob.js  0.124275  0.164882  0.275069  0.113478  0.112061   \n",
       "\n",
       "           t6  \n",
       "0    0.161802  \n",
       "1    0.147221  \n",
       "2    0.140623  \n",
       "3    0.132750  \n",
       "4    0.144796  \n",
       "..        ...  \n",
       "647  0.145559  \n",
       "648  0.146360  \n",
       "649  0.147788  \n",
       "650  0.420435  \n",
       "651  0.198438  \n",
       "\n",
       "[652 rows x 7 columns]"
      ]
     },
     "execution_count": 64,
     "metadata": {},
     "output_type": "execute_result"
    }
   ],
   "source": [
    "job_df"
   ]
  },
  {
   "cell_type": "code",
   "execution_count": 72,
   "metadata": {},
   "outputs": [],
   "source": [
    "def getSize_ob(name):\n",
    "    raw_path = 'jsdata/rand_ob/'\n",
    "    filePath = os.path.join(raw_path, name)\n",
    "    return os.path.getsize(filePath)"
   ]
  },
  {
   "cell_type": "code",
   "execution_count": null,
   "metadata": {},
   "outputs": [],
   "source": []
  },
  {
   "cell_type": "code",
   "execution_count": 71,
   "metadata": {},
   "outputs": [],
   "source": [
    "def getSize_jiami(name):\n",
    "    raw_path = 'jsdata/rand_jsjiami/'\n",
    "    filePath = os.path.join(raw_path, name)\n",
    "    return os.path.getsize(filePath)"
   ]
  },
  {
   "cell_type": "code",
   "execution_count": 68,
   "metadata": {},
   "outputs": [],
   "source": [
    "job_df['size'] = job_df['name'].apply(getSize)"
   ]
  },
  {
   "cell_type": "code",
   "execution_count": 73,
   "metadata": {},
   "outputs": [],
   "source": [
    "jsjiami_df['size'] = jsjiami_df['name'].apply(getSize_jiami)"
   ]
  },
  {
   "cell_type": "code",
   "execution_count": 74,
   "metadata": {},
   "outputs": [
    {
     "data": {
      "text/html": [
       "<div>\n",
       "<style scoped>\n",
       "    .dataframe tbody tr th:only-of-type {\n",
       "        vertical-align: middle;\n",
       "    }\n",
       "\n",
       "    .dataframe tbody tr th {\n",
       "        vertical-align: top;\n",
       "    }\n",
       "\n",
       "    .dataframe thead th {\n",
       "        text-align: right;\n",
       "    }\n",
       "</style>\n",
       "<table border=\"1\" class=\"dataframe\">\n",
       "  <thead>\n",
       "    <tr style=\"text-align: right;\">\n",
       "      <th></th>\n",
       "      <th>name</th>\n",
       "      <th>t0</th>\n",
       "      <th>t1</th>\n",
       "      <th>t2</th>\n",
       "      <th>t3</th>\n",
       "      <th>size</th>\n",
       "    </tr>\n",
       "  </thead>\n",
       "  <tbody>\n",
       "    <tr>\n",
       "      <th>0</th>\n",
       "      <td>43851.js-jiami.js</td>\n",
       "      <td>0.139910</td>\n",
       "      <td>0.346603</td>\n",
       "      <td>0.366177</td>\n",
       "      <td>0.077726</td>\n",
       "      <td>4356</td>\n",
       "    </tr>\n",
       "    <tr>\n",
       "      <th>1</th>\n",
       "      <td>68706.js-jiami.js</td>\n",
       "      <td>0.100675</td>\n",
       "      <td>0.157988</td>\n",
       "      <td>0.398964</td>\n",
       "      <td>0.073708</td>\n",
       "      <td>4630</td>\n",
       "    </tr>\n",
       "    <tr>\n",
       "      <th>2</th>\n",
       "      <td>67981.js-jiami.js</td>\n",
       "      <td>0.085693</td>\n",
       "      <td>0.149008</td>\n",
       "      <td>0.072428</td>\n",
       "      <td>0.062713</td>\n",
       "      <td>3167</td>\n",
       "    </tr>\n",
       "    <tr>\n",
       "      <th>3</th>\n",
       "      <td>28688.js-jiami.js</td>\n",
       "      <td>0.094209</td>\n",
       "      <td>0.153684</td>\n",
       "      <td>0.423348</td>\n",
       "      <td>0.072553</td>\n",
       "      <td>4448</td>\n",
       "    </tr>\n",
       "    <tr>\n",
       "      <th>4</th>\n",
       "      <td>86060.js-jiami.js</td>\n",
       "      <td>0.106706</td>\n",
       "      <td>0.245101</td>\n",
       "      <td>1.058256</td>\n",
       "      <td>0.080267</td>\n",
       "      <td>7558</td>\n",
       "    </tr>\n",
       "    <tr>\n",
       "      <th>...</th>\n",
       "      <td>...</td>\n",
       "      <td>...</td>\n",
       "      <td>...</td>\n",
       "      <td>...</td>\n",
       "      <td>...</td>\n",
       "      <td>...</td>\n",
       "    </tr>\n",
       "    <tr>\n",
       "      <th>501</th>\n",
       "      <td>84203.js-jiami.js</td>\n",
       "      <td>0.080047</td>\n",
       "      <td>0.168113</td>\n",
       "      <td>0.052114</td>\n",
       "      <td>0.061734</td>\n",
       "      <td>3057</td>\n",
       "    </tr>\n",
       "    <tr>\n",
       "      <th>502</th>\n",
       "      <td>61443.js-jiami.js</td>\n",
       "      <td>0.082144</td>\n",
       "      <td>0.177853</td>\n",
       "      <td>0.074688</td>\n",
       "      <td>0.069798</td>\n",
       "      <td>3367</td>\n",
       "    </tr>\n",
       "    <tr>\n",
       "      <th>503</th>\n",
       "      <td>83287.js-jiami.js</td>\n",
       "      <td>0.093207</td>\n",
       "      <td>0.326009</td>\n",
       "      <td>1.882793</td>\n",
       "      <td>0.102007</td>\n",
       "      <td>8430</td>\n",
       "    </tr>\n",
       "    <tr>\n",
       "      <th>504</th>\n",
       "      <td>138.js-jiami.js</td>\n",
       "      <td>0.089325</td>\n",
       "      <td>0.143960</td>\n",
       "      <td>0.981829</td>\n",
       "      <td>0.074326</td>\n",
       "      <td>6504</td>\n",
       "    </tr>\n",
       "    <tr>\n",
       "      <th>505</th>\n",
       "      <td>87349.js-jiami.js</td>\n",
       "      <td>0.084232</td>\n",
       "      <td>0.184634</td>\n",
       "      <td>0.122712</td>\n",
       "      <td>0.064396</td>\n",
       "      <td>3499</td>\n",
       "    </tr>\n",
       "  </tbody>\n",
       "</table>\n",
       "<p>506 rows × 6 columns</p>\n",
       "</div>"
      ],
      "text/plain": [
       "                  name        t0        t1        t2        t3  size\n",
       "0    43851.js-jiami.js  0.139910  0.346603  0.366177  0.077726  4356\n",
       "1    68706.js-jiami.js  0.100675  0.157988  0.398964  0.073708  4630\n",
       "2    67981.js-jiami.js  0.085693  0.149008  0.072428  0.062713  3167\n",
       "3    28688.js-jiami.js  0.094209  0.153684  0.423348  0.072553  4448\n",
       "4    86060.js-jiami.js  0.106706  0.245101  1.058256  0.080267  7558\n",
       "..                 ...       ...       ...       ...       ...   ...\n",
       "501  84203.js-jiami.js  0.080047  0.168113  0.052114  0.061734  3057\n",
       "502  61443.js-jiami.js  0.082144  0.177853  0.074688  0.069798  3367\n",
       "503  83287.js-jiami.js  0.093207  0.326009  1.882793  0.102007  8430\n",
       "504    138.js-jiami.js  0.089325  0.143960  0.981829  0.074326  6504\n",
       "505  87349.js-jiami.js  0.084232  0.184634  0.122712  0.064396  3499\n",
       "\n",
       "[506 rows x 6 columns]"
      ]
     },
     "execution_count": 74,
     "metadata": {},
     "output_type": "execute_result"
    }
   ],
   "source": [
    "jsjiami_df"
   ]
  },
  {
   "cell_type": "code",
   "execution_count": 77,
   "metadata": {},
   "outputs": [],
   "source": [
    "jsjiami_df['tot'] = jsjiami_df['t0']+jsjiami_df['t1']+jsjiami_df['t2']+jsjiami_df['t3']"
   ]
  },
  {
   "cell_type": "code",
   "execution_count": 79,
   "metadata": {},
   "outputs": [],
   "source": [
    "jsjiami_df['line'] = jsjiami_df['size'] / jsjiami_df['tot']"
   ]
  },
  {
   "cell_type": "code",
   "execution_count": 85,
   "metadata": {},
   "outputs": [
    {
     "data": {
      "text/plain": [
       "Index(['name', 't0', 't1', 't2', 't3', 'size', 'tot', 'line'], dtype='object')"
      ]
     },
     "execution_count": 85,
     "metadata": {},
     "output_type": "execute_result"
    }
   ],
   "source": [
    "jsjiami_df.columns"
   ]
  },
  {
   "cell_type": "code",
   "execution_count": 87,
   "metadata": {},
   "outputs": [
    {
     "data": {
      "text/plain": [
       "[56436.60622182639,\n",
       " 26232.112533599735,\n",
       " 25472.583847745405,\n",
       " 66161.83757425228,\n",
       " 1.0,\n",
       " 6497.9509922126945,\n",
       " 1.110833094996426]"
      ]
     },
     "execution_count": 87,
     "metadata": {},
     "output_type": "execute_result"
    }
   ],
   "source": [
    "[(jsjiami_df['size']/jsjiami_df[col]).mean() for col in ['t0', 't1', 't2', 't3', 'size', 'tot', 'line'] ]"
   ]
  },
  {
   "cell_type": "code",
   "execution_count": 80,
   "metadata": {},
   "outputs": [
    {
     "data": {
      "text/html": [
       "<div>\n",
       "<style scoped>\n",
       "    .dataframe tbody tr th:only-of-type {\n",
       "        vertical-align: middle;\n",
       "    }\n",
       "\n",
       "    .dataframe tbody tr th {\n",
       "        vertical-align: top;\n",
       "    }\n",
       "\n",
       "    .dataframe thead th {\n",
       "        text-align: right;\n",
       "    }\n",
       "</style>\n",
       "<table border=\"1\" class=\"dataframe\">\n",
       "  <thead>\n",
       "    <tr style=\"text-align: right;\">\n",
       "      <th></th>\n",
       "      <th>t0</th>\n",
       "      <th>t1</th>\n",
       "      <th>t2</th>\n",
       "      <th>t3</th>\n",
       "      <th>size</th>\n",
       "      <th>tot</th>\n",
       "      <th>line</th>\n",
       "    </tr>\n",
       "  </thead>\n",
       "  <tbody>\n",
       "    <tr>\n",
       "      <th>count</th>\n",
       "      <td>506.000000</td>\n",
       "      <td>506.000000</td>\n",
       "      <td>506.000000</td>\n",
       "      <td>506.000000</td>\n",
       "      <td>506.000000</td>\n",
       "      <td>506.000000</td>\n",
       "      <td>506.000000</td>\n",
       "    </tr>\n",
       "    <tr>\n",
       "      <th>mean</th>\n",
       "      <td>0.093929</td>\n",
       "      <td>0.199366</td>\n",
       "      <td>0.727764</td>\n",
       "      <td>0.089774</td>\n",
       "      <td>5676.084980</td>\n",
       "      <td>1.110833</td>\n",
       "      <td>6497.950992</td>\n",
       "    </tr>\n",
       "    <tr>\n",
       "      <th>std</th>\n",
       "      <td>0.014677</td>\n",
       "      <td>0.139772</td>\n",
       "      <td>2.018634</td>\n",
       "      <td>0.219961</td>\n",
       "      <td>8442.874781</td>\n",
       "      <td>2.325418</td>\n",
       "      <td>1771.126037</td>\n",
       "    </tr>\n",
       "    <tr>\n",
       "      <th>min</th>\n",
       "      <td>0.080047</td>\n",
       "      <td>0.118095</td>\n",
       "      <td>0.023201</td>\n",
       "      <td>0.061372</td>\n",
       "      <td>3016.000000</td>\n",
       "      <td>0.305462</td>\n",
       "      <td>2316.575038</td>\n",
       "    </tr>\n",
       "    <tr>\n",
       "      <th>25%</th>\n",
       "      <td>0.086621</td>\n",
       "      <td>0.153205</td>\n",
       "      <td>0.125596</td>\n",
       "      <td>0.066411</td>\n",
       "      <td>3426.750000</td>\n",
       "      <td>0.462199</td>\n",
       "      <td>5228.811604</td>\n",
       "    </tr>\n",
       "    <tr>\n",
       "      <th>50%</th>\n",
       "      <td>0.090530</td>\n",
       "      <td>0.174792</td>\n",
       "      <td>0.321182</td>\n",
       "      <td>0.070271</td>\n",
       "      <td>4125.500000</td>\n",
       "      <td>0.655143</td>\n",
       "      <td>6362.283214</td>\n",
       "    </tr>\n",
       "    <tr>\n",
       "      <th>75%</th>\n",
       "      <td>0.097238</td>\n",
       "      <td>0.207155</td>\n",
       "      <td>0.540821</td>\n",
       "      <td>0.076799</td>\n",
       "      <td>5183.250000</td>\n",
       "      <td>0.916631</td>\n",
       "      <td>7697.312136</td>\n",
       "    </tr>\n",
       "    <tr>\n",
       "      <th>max</th>\n",
       "      <td>0.321167</td>\n",
       "      <td>2.678579</td>\n",
       "      <td>27.817812</td>\n",
       "      <td>4.435068</td>\n",
       "      <td>138814.000000</td>\n",
       "      <td>31.720503</td>\n",
       "      <td>14050.786103</td>\n",
       "    </tr>\n",
       "  </tbody>\n",
       "</table>\n",
       "</div>"
      ],
      "text/plain": [
       "               t0          t1          t2          t3           size  \\\n",
       "count  506.000000  506.000000  506.000000  506.000000     506.000000   \n",
       "mean     0.093929    0.199366    0.727764    0.089774    5676.084980   \n",
       "std      0.014677    0.139772    2.018634    0.219961    8442.874781   \n",
       "min      0.080047    0.118095    0.023201    0.061372    3016.000000   \n",
       "25%      0.086621    0.153205    0.125596    0.066411    3426.750000   \n",
       "50%      0.090530    0.174792    0.321182    0.070271    4125.500000   \n",
       "75%      0.097238    0.207155    0.540821    0.076799    5183.250000   \n",
       "max      0.321167    2.678579   27.817812    4.435068  138814.000000   \n",
       "\n",
       "              tot          line  \n",
       "count  506.000000    506.000000  \n",
       "mean     1.110833   6497.950992  \n",
       "std      2.325418   1771.126037  \n",
       "min      0.305462   2316.575038  \n",
       "25%      0.462199   5228.811604  \n",
       "50%      0.655143   6362.283214  \n",
       "75%      0.916631   7697.312136  \n",
       "max     31.720503  14050.786103  "
      ]
     },
     "execution_count": 80,
     "metadata": {},
     "output_type": "execute_result"
    }
   ],
   "source": [
    "jsjiami_df.describe()"
   ]
  },
  {
   "cell_type": "code",
   "execution_count": 89,
   "metadata": {},
   "outputs": [],
   "source": [
    "l = [0.092727\t,0.100163\t,0.178559,\t0.088139,\t0.088821,\t0.158102]"
   ]
  },
  {
   "cell_type": "code",
   "execution_count": 90,
   "metadata": {},
   "outputs": [
    {
     "data": {
      "text/plain": [
       "[13.12463641755047,\n",
       " 14.17713241548964,\n",
       " 25.273350308770844,\n",
       " 12.475248085309358,\n",
       " 12.571778783345199,\n",
       " 22.377853989534486]"
      ]
     },
     "execution_count": 90,
     "metadata": {},
     "output_type": "execute_result"
    }
   ],
   "source": [
    "[item * 100 / sum(l) for item in l]"
   ]
  },
  {
   "cell_type": "code",
   "execution_count": 99,
   "metadata": {},
   "outputs": [
    {
     "data": {
      "text/html": [
       "<div>\n",
       "<style scoped>\n",
       "    .dataframe tbody tr th:only-of-type {\n",
       "        vertical-align: middle;\n",
       "    }\n",
       "\n",
       "    .dataframe tbody tr th {\n",
       "        vertical-align: top;\n",
       "    }\n",
       "\n",
       "    .dataframe thead th {\n",
       "        text-align: right;\n",
       "    }\n",
       "</style>\n",
       "<table border=\"1\" class=\"dataframe\">\n",
       "  <thead>\n",
       "    <tr style=\"text-align: right;\">\n",
       "      <th></th>\n",
       "      <th>t1</th>\n",
       "      <th>t2</th>\n",
       "      <th>t3</th>\n",
       "      <th>t4</th>\n",
       "      <th>t5</th>\n",
       "      <th>t6</th>\n",
       "      <th>size</th>\n",
       "      <th>tot</th>\n",
       "    </tr>\n",
       "  </thead>\n",
       "  <tbody>\n",
       "    <tr>\n",
       "      <th>count</th>\n",
       "      <td>652.000000</td>\n",
       "      <td>652.000000</td>\n",
       "      <td>652.000000</td>\n",
       "      <td>652.000000</td>\n",
       "      <td>652.000000</td>\n",
       "      <td>652.000000</td>\n",
       "      <td>652.000000</td>\n",
       "      <td>652.000000</td>\n",
       "    </tr>\n",
       "    <tr>\n",
       "      <th>mean</th>\n",
       "      <td>0.092727</td>\n",
       "      <td>0.100163</td>\n",
       "      <td>0.178559</td>\n",
       "      <td>0.088139</td>\n",
       "      <td>0.088821</td>\n",
       "      <td>0.158102</td>\n",
       "      <td>6849.657975</td>\n",
       "      <td>0.706511</td>\n",
       "    </tr>\n",
       "    <tr>\n",
       "      <th>std</th>\n",
       "      <td>0.023051</td>\n",
       "      <td>0.067430</td>\n",
       "      <td>0.053316</td>\n",
       "      <td>0.025976</td>\n",
       "      <td>0.029222</td>\n",
       "      <td>0.041164</td>\n",
       "      <td>19173.015126</td>\n",
       "      <td>0.229138</td>\n",
       "    </tr>\n",
       "    <tr>\n",
       "      <th>min</th>\n",
       "      <td>0.069880</td>\n",
       "      <td>0.069458</td>\n",
       "      <td>0.134294</td>\n",
       "      <td>0.068590</td>\n",
       "      <td>0.066456</td>\n",
       "      <td>0.128807</td>\n",
       "      <td>1.000000</td>\n",
       "      <td>0.539629</td>\n",
       "    </tr>\n",
       "    <tr>\n",
       "      <th>25%</th>\n",
       "      <td>0.083602</td>\n",
       "      <td>0.082167</td>\n",
       "      <td>0.159832</td>\n",
       "      <td>0.079155</td>\n",
       "      <td>0.078874</td>\n",
       "      <td>0.143030</td>\n",
       "      <td>1638.250000</td>\n",
       "      <td>0.633499</td>\n",
       "    </tr>\n",
       "    <tr>\n",
       "      <th>50%</th>\n",
       "      <td>0.087349</td>\n",
       "      <td>0.086059</td>\n",
       "      <td>0.165828</td>\n",
       "      <td>0.082279</td>\n",
       "      <td>0.082079</td>\n",
       "      <td>0.147930</td>\n",
       "      <td>2408.000000</td>\n",
       "      <td>0.654425</td>\n",
       "    </tr>\n",
       "    <tr>\n",
       "      <th>75%</th>\n",
       "      <td>0.093543</td>\n",
       "      <td>0.094109</td>\n",
       "      <td>0.176018</td>\n",
       "      <td>0.087625</td>\n",
       "      <td>0.088630</td>\n",
       "      <td>0.157701</td>\n",
       "      <td>4506.000000</td>\n",
       "      <td>0.694431</td>\n",
       "    </tr>\n",
       "    <tr>\n",
       "      <th>max</th>\n",
       "      <td>0.311877</td>\n",
       "      <td>0.951657</td>\n",
       "      <td>0.677062</td>\n",
       "      <td>0.458625</td>\n",
       "      <td>0.481780</td>\n",
       "      <td>0.524777</td>\n",
       "      <td>214974.000000</td>\n",
       "      <td>2.960682</td>\n",
       "    </tr>\n",
       "  </tbody>\n",
       "</table>\n",
       "</div>"
      ],
      "text/plain": [
       "               t1          t2          t3          t4          t5          t6  \\\n",
       "count  652.000000  652.000000  652.000000  652.000000  652.000000  652.000000   \n",
       "mean     0.092727    0.100163    0.178559    0.088139    0.088821    0.158102   \n",
       "std      0.023051    0.067430    0.053316    0.025976    0.029222    0.041164   \n",
       "min      0.069880    0.069458    0.134294    0.068590    0.066456    0.128807   \n",
       "25%      0.083602    0.082167    0.159832    0.079155    0.078874    0.143030   \n",
       "50%      0.087349    0.086059    0.165828    0.082279    0.082079    0.147930   \n",
       "75%      0.093543    0.094109    0.176018    0.087625    0.088630    0.157701   \n",
       "max      0.311877    0.951657    0.677062    0.458625    0.481780    0.524777   \n",
       "\n",
       "                size         tot  \n",
       "count     652.000000  652.000000  \n",
       "mean     6849.657975    0.706511  \n",
       "std     19173.015126    0.229138  \n",
       "min         1.000000    0.539629  \n",
       "25%      1638.250000    0.633499  \n",
       "50%      2408.000000    0.654425  \n",
       "75%      4506.000000    0.694431  \n",
       "max    214974.000000    2.960682  "
      ]
     },
     "execution_count": 99,
     "metadata": {},
     "output_type": "execute_result"
    }
   ],
   "source": [
    "job_df.describe()"
   ]
  },
  {
   "cell_type": "code",
   "execution_count": 93,
   "metadata": {},
   "outputs": [],
   "source": [
    "job_df['tot'] = sum([job_df[col] for col in ['t1', 't2', 't3', 't4', 't5', 't6']])"
   ]
  },
  {
   "cell_type": "code",
   "execution_count": 94,
   "metadata": {},
   "outputs": [
    {
     "data": {
      "text/plain": [
       "Index(['name', 't1', 't2', 't3', 't4', 't5', 't6', 'size', 'tot'], dtype='object')"
      ]
     },
     "execution_count": 94,
     "metadata": {},
     "output_type": "execute_result"
    }
   ],
   "source": [
    "job_df.columns"
   ]
  },
  {
   "cell_type": "code",
   "execution_count": 96,
   "metadata": {},
   "outputs": [
    {
     "data": {
      "text/plain": [
       "[54714.08770494477,\n",
       " 45277.13389792064,\n",
       " 27827.37248373542,\n",
       " 57174.40218947928,\n",
       " 55899.38022191744,\n",
       " 32627.174421184118,\n",
       " 6925.226393657334]"
      ]
     },
     "execution_count": 96,
     "metadata": {},
     "output_type": "execute_result"
    }
   ],
   "source": [
    "[(job_df['size']/job_df[col]).mean() for col in ['t1', 't2', 't3', 't4', 't5', 't6', 'tot'] ]"
   ]
  },
  {
   "cell_type": "code",
   "execution_count": 97,
   "metadata": {},
   "outputs": [
    {
     "data": {
      "text/plain": [
       "85001.7746732147"
      ]
     },
     "execution_count": 97,
     "metadata": {},
     "output_type": "execute_result"
    }
   ],
   "source": [
    "27827.37248373542 + 57174.40218947928"
   ]
  },
  {
   "cell_type": "markdown",
   "metadata": {},
   "source": [
    "# pwd"
   ]
  },
  {
   "cell_type": "code",
   "execution_count": 101,
   "metadata": {},
   "outputs": [
    {
     "data": {
      "text/plain": [
       "1.7777777777777777"
      ]
     },
     "execution_count": 101,
     "metadata": {},
     "output_type": "execute_result"
    }
   ],
   "source": [
    "16/9"
   ]
  },
  {
   "cell_type": "code",
   "execution_count": null,
   "metadata": {},
   "outputs": [],
   "source": []
  },
  {
   "cell_type": "code",
   "execution_count": null,
   "metadata": {},
   "outputs": [],
   "source": []
  }
 ],
 "metadata": {
  "kernelspec": {
   "display_name": "Python 3",
   "language": "python",
   "name": "python3"
  },
  "language_info": {
   "codemirror_mode": {
    "name": "ipython",
    "version": 3
   },
   "file_extension": ".py",
   "mimetype": "text/x-python",
   "name": "python",
   "nbconvert_exporter": "python",
   "pygments_lexer": "ipython3",
   "version": "3.8.3"
  }
 },
 "nbformat": 4,
 "nbformat_minor": 4
}
