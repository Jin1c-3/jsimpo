{
 "cells": [
  {
   "cell_type": "code",
   "execution_count": 10,
   "metadata": {},
   "outputs": [],
   "source": [
    "import scipy.stats as stats\n",
    "import numpy as np\n",
    "import pandas as pd"
   ]
  },
  {
   "cell_type": "code",
   "execution_count": null,
   "metadata": {},
   "outputs": [],
   "source": [
    "group1 = [0.8, 0.9, 0.7, 0.6, 0.5]\n",
    "group2 = [0.6, 0.7, 0.4, 0.5, 0.8, 0.7]\n",
    "group3 = [0.9, 0.7, 0.8, 0.6, 0.5, 0.7, 0.6]\n",
    "group4 = [0.6, 0.5, 0.4, 0.6]\n",
    "group5 = [0.7, 0.8, 0.9, 0.7, 0.6, 0.5]\n",
    "group6 = [0.5, 0.6, 0.4, 0.5, 0.7, 0.8]\n",
    "\n",
    "# Combine all groups into a single array\n",
    "data = [group1, group2, group3, group4, group5, group6]\n",
    "\n",
    "\n"
   ]
  },
  {
   "cell_type": "code",
   "execution_count": 19,
   "metadata": {},
   "outputs": [],
   "source": [
    "df = pd.read_csv('jsdata/res_kernel_ob_cmp_combine.csv')"
   ]
  },
  {
   "cell_type": "code",
   "execution_count": 11,
   "metadata": {},
   "outputs": [],
   "source": [
    "df = pd.read_csv('jsdata/res_kernel_jiami_cmp_combine.csv')"
   ]
  },
  {
   "cell_type": "code",
   "execution_count": 12,
   "metadata": {},
   "outputs": [
    {
     "data": {
      "text/plain": [
       "Index(['FileName', 'jsjiami_unweighted', 'jsjiami_jsdec', 'jsjiami_illu',\n",
       "       'jsjiami_sd', 'jsjiami_recover_unweighted'],\n",
       "      dtype='object')"
      ]
     },
     "execution_count": 12,
     "metadata": {},
     "output_type": "execute_result"
    }
   ],
   "source": [
    "df.columns"
   ]
  },
  {
   "cell_type": "code",
   "execution_count": 20,
   "metadata": {},
   "outputs": [],
   "source": [
    "data = [df[col].to_list() for col in ['jsjiami_unweighted', 'jsjiami_jsdec', 'jsjiami_illu',\n",
    "       'jsjiami_sd', 'jsjiami_recover_unweighted']]"
   ]
  },
  {
   "cell_type": "code",
   "execution_count": null,
   "metadata": {},
   "outputs": [],
   "source": [
    "data"
   ]
  },
  {
   "cell_type": "code",
   "execution_count": 21,
   "metadata": {},
   "outputs": [
    {
     "name": "stdout",
     "output_type": "stream",
     "text": [
      "Kruskal-Wallis Test\n",
      "-------------------\n",
      "Statistic: 814.2683435730697\n",
      "P-value: 6.232736364375678e-175\n",
      "There is a significant difference among the groups.\n"
     ]
    }
   ],
   "source": [
    "\n",
    "# Define your data for each group\n",
    "# Perform the Kruskal-Wallis test\n",
    "statistic, p_value = stats.mstats.kruskalwallis(*data)\n",
    "\n",
    "# Print the results\n",
    "print(\"Kruskal-Wallis Test\")\n",
    "print(\"-------------------\")\n",
    "print(f\"Statistic: {statistic}\")\n",
    "print(f\"P-value: {p_value}\")\n",
    "\n",
    "# Check the significance level\n",
    "alpha = 0.05\n",
    "if p_value < alpha:\n",
    "    print(\"There is a significant difference among the groups.\")\n",
    "else:\n",
    "    print(\"There is no significant difference among the groups.\")\n"
   ]
  },
  {
   "cell_type": "code",
   "execution_count": null,
   "metadata": {},
   "outputs": [],
   "source": [
    "Kruskal-Wallis Test\n",
    "-------------------\n",
    "Statistic: 212.8614741392281\n",
    "P-value: 6.439419837426507e-45\n",
    "There is a significant difference among the groups.\n"
   ]
  },
  {
   "cell_type": "code",
   "execution_count": null,
   "metadata": {},
   "outputs": [],
   "source": [
    "Kruskal-Wallis Test\n",
    "-------------------\n",
    "Statistic: 814.2683435730697\n",
    "P-value: 6.232736364375678e-175\n",
    "There is a significant difference among the groups.\n"
   ]
  },
  {
   "cell_type": "code",
   "execution_count": null,
   "metadata": {},
   "outputs": [],
   "source": []
  }
 ],
 "metadata": {
  "kernelspec": {
   "display_name": "Python 3",
   "language": "python",
   "name": "python3"
  },
  "language_info": {
   "codemirror_mode": {
    "name": "ipython",
    "version": 3
   },
   "file_extension": ".py",
   "mimetype": "text/x-python",
   "name": "python",
   "nbconvert_exporter": "python",
   "pygments_lexer": "ipython3",
   "version": "3.8.3"
  }
 },
 "nbformat": 4,
 "nbformat_minor": 4
}
