{
 "cells": [
  {
   "cell_type": "code",
   "execution_count": 2,
   "metadata": {},
   "outputs": [],
   "source": [
    "import os, sys\n",
    "import json\n",
    "import re"
   ]
  },
  {
   "cell_type": "code",
   "execution_count": 18,
   "metadata": {},
   "outputs": [],
   "source": [
    "srcFolder = './lodash/'\n",
    "srcTestFolder = './lodash/test/'\n",
    "srcIntFolder = './lodash/.internal/'\n",
    "dstFolder = './lodash_node'\n",
    "dstTestFolder = './lodash_node/test/'\n",
    "dstIntFolder = './lodash_node/.internal/'"
   ]
  },
  {
   "cell_type": "code",
   "execution_count": null,
   "metadata": {},
   "outputs": [],
   "source": [
    "def to_mjs(matched):\n",
    "    import_str = matched.group(0).strip()\n",
    "    print('changed pattern:', import_str)\n",
    "    return import_str.replace('.js', '.mjs')\n",
    "\n",
    "\n",
    "if not os.path.exists(dstFolder):\n",
    "    os.mkdir(dstFolder)\n",
    "if not os.path.exists(dstTestFolder):\n",
    "    os.mkdir(dstTestFolder)\n",
    "if not os.path.exists(dstIntFolder):\n",
    "    os.mkdir(dstIntFolder)\n",
    "    \n",
    "for item in os.listdir(srcFolder):\n",
    "    if not item.endswith('.js'):\n",
    "        continue\n",
    "    srcPath = os.path.join(srcFolder, item)\n",
    "    dstPath = os.path.join(dstFolder, item.replace('.js', '.mjs'))\n",
    "    with open(srcPath, 'r') as f:\n",
    "        src = f.read()\n",
    "    dst = re.sub(r'import [^\\n]+', to_mjs, src)\n",
    "    with open(dstPath, 'w') as f:\n",
    "        f.write(dst)\n",
    "\n",
    "for item in os.listdir(srcTestFolder):\n",
    "    if not item.endswith('.js'):\n",
    "        continue\n",
    "    srcPath = os.path.join(srcTestFolder, item)\n",
    "    dstPath = os.path.join(dstTestFolder, item.replace('.js', '.mjs'))\n",
    "    with open(srcPath, 'r') as f:\n",
    "        src = f.read()\n",
    "    dst = re.sub(r'import [^\\n]+', to_mjs, src)\n",
    "    with open(dstPath, 'w') as f:\n",
    "        f.write(dst)\n",
    "        \n",
    "for item in os.listdir(srcIntFolder):\n",
    "    if not item.endswith('.js'):\n",
    "        continue\n",
    "    srcPath = os.path.join(srcIntFolder, item)\n",
    "    dstPath = os.path.join(dstIntFolder, item.replace('.js', '.mjs'))\n",
    "    with open(srcPath, 'r') as f:\n",
    "        src = f.read()\n",
    "    dst = re.sub(r'import [^\\n]+', to_mjs, src)\n",
    "    with open(dstPath, 'w') as f:\n",
    "        f.write(dst)"
   ]
  },
  {
   "cell_type": "code",
   "execution_count": 13,
   "metadata": {},
   "outputs": [
    {
     "name": "stdout",
     "output_type": "stream",
     "text": [
      "changed pattern: import lodashStable from 'lodash.js';\n",
      "changed pattern: import lodashStable from 'lodash.js';\n",
      "changed pattern: import lodashStable from 'lodash.js';\n",
      "import lodashStable from 'lodash.mjs';\n",
      "import lodashStable from 'lodash.mjs';\n",
      "import lodashStable from 'lodash.mjs';\n",
      "\n"
     ]
    }
   ],
   "source": [
    "string = \"import lodashStable from 'lodash.js';\\n\"\n",
    "\n",
    "def to_mjs(matched):\n",
    "    import_str = matched.group(0).strip()\n",
    "    print('changed pattern:', import_str)\n",
    "    return import_str.replace('.js', '.mjs')\n",
    "\n",
    "new_string = re.sub(r'import [^\\n]+', to_mjs, string)\n",
    "\n",
    "print(new_string)\n"
   ]
  },
  {
   "cell_type": "code",
   "execution_count": 11,
   "metadata": {},
   "outputs": [
    {
     "data": {
      "text/plain": [
       "\u001b[0;31mSignature:\u001b[0m \u001b[0mre\u001b[0m\u001b[0;34m.\u001b[0m\u001b[0msub\u001b[0m\u001b[0;34m(\u001b[0m\u001b[0mpattern\u001b[0m\u001b[0;34m,\u001b[0m \u001b[0mrepl\u001b[0m\u001b[0;34m,\u001b[0m \u001b[0mstring\u001b[0m\u001b[0;34m,\u001b[0m \u001b[0mcount\u001b[0m\u001b[0;34m=\u001b[0m\u001b[0;36m0\u001b[0m\u001b[0;34m,\u001b[0m \u001b[0mflags\u001b[0m\u001b[0;34m=\u001b[0m\u001b[0;36m0\u001b[0m\u001b[0;34m)\u001b[0m\u001b[0;34m\u001b[0m\u001b[0;34m\u001b[0m\u001b[0m\n",
       "\u001b[0;31mSource:\u001b[0m   \n",
       "\u001b[0;32mdef\u001b[0m \u001b[0msub\u001b[0m\u001b[0;34m(\u001b[0m\u001b[0mpattern\u001b[0m\u001b[0;34m,\u001b[0m \u001b[0mrepl\u001b[0m\u001b[0;34m,\u001b[0m \u001b[0mstring\u001b[0m\u001b[0;34m,\u001b[0m \u001b[0mcount\u001b[0m\u001b[0;34m=\u001b[0m\u001b[0;36m0\u001b[0m\u001b[0;34m,\u001b[0m \u001b[0mflags\u001b[0m\u001b[0;34m=\u001b[0m\u001b[0;36m0\u001b[0m\u001b[0;34m)\u001b[0m\u001b[0;34m:\u001b[0m\u001b[0;34m\u001b[0m\n",
       "\u001b[0;34m\u001b[0m    \u001b[0;34m\"\"\"Return the string obtained by replacing the leftmost\u001b[0m\n",
       "\u001b[0;34m    non-overlapping occurrences of the pattern in string by the\u001b[0m\n",
       "\u001b[0;34m    replacement repl.  repl can be either a string or a callable;\u001b[0m\n",
       "\u001b[0;34m    if a string, backslash escapes in it are processed.  If it is\u001b[0m\n",
       "\u001b[0;34m    a callable, it's passed the Match object and must return\u001b[0m\n",
       "\u001b[0;34m    a replacement string to be used.\"\"\"\u001b[0m\u001b[0;34m\u001b[0m\n",
       "\u001b[0;34m\u001b[0m    \u001b[0;32mreturn\u001b[0m \u001b[0m_compile\u001b[0m\u001b[0;34m(\u001b[0m\u001b[0mpattern\u001b[0m\u001b[0;34m,\u001b[0m \u001b[0mflags\u001b[0m\u001b[0;34m)\u001b[0m\u001b[0;34m.\u001b[0m\u001b[0msub\u001b[0m\u001b[0;34m(\u001b[0m\u001b[0mrepl\u001b[0m\u001b[0;34m,\u001b[0m \u001b[0mstring\u001b[0m\u001b[0;34m,\u001b[0m \u001b[0mcount\u001b[0m\u001b[0;34m)\u001b[0m\u001b[0;34m\u001b[0m\u001b[0;34m\u001b[0m\u001b[0m\n",
       "\u001b[0;31mFile:\u001b[0m      /opt/anaconda3/lib/python3.8/re.py\n",
       "\u001b[0;31mType:\u001b[0m      function\n"
      ]
     },
     "metadata": {},
     "output_type": "display_data"
    }
   ],
   "source": [
    "re.sub??"
   ]
  },
  {
   "cell_type": "code",
   "execution_count": 3,
   "metadata": {},
   "outputs": [],
   "source": [
    "items = os.listdir('./cache/')"
   ]
  },
  {
   "cell_type": "code",
   "execution_count": 10,
   "metadata": {},
   "outputs": [],
   "source": [
    "for item in items:\n",
    "    os.system(f'cp ./cache/{item} ./lodash_deobs/{item[:-9]}')"
   ]
  },
  {
   "cell_type": "code",
   "execution_count": 9,
   "metadata": {},
   "outputs": [
    {
     "data": {
      "text/plain": [
       "'sortedIndex.js'"
      ]
     },
     "execution_count": 9,
     "metadata": {},
     "output_type": "execute_result"
    }
   ],
   "source": [
    "items[0][:-9]"
   ]
  },
  {
   "cell_type": "code",
   "execution_count": null,
   "metadata": {},
   "outputs": [],
   "source": []
  }
 ],
 "metadata": {
  "kernelspec": {
   "display_name": "Python 3",
   "language": "python",
   "name": "python3"
  },
  "language_info": {
   "codemirror_mode": {
    "name": "ipython",
    "version": 3
   },
   "file_extension": ".py",
   "mimetype": "text/x-python",
   "name": "python",
   "nbconvert_exporter": "python",
   "pygments_lexer": "ipython3",
   "version": "3.8.3"
  }
 },
 "nbformat": 4,
 "nbformat_minor": 4
}
