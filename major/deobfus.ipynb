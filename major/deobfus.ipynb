{
 "cells": [
  {
   "cell_type": "code",
   "execution_count": 2,
   "metadata": {},
   "outputs": [],
   "source": [
    "import os, sys\n",
    "import json\n",
    "import pandas as pd"
   ]
  },
  {
   "cell_type": "code",
   "execution_count": 3,
   "metadata": {},
   "outputs": [],
   "source": [
    "srcFiles = os.listdir('./lodash/')"
   ]
  },
  {
   "cell_type": "code",
   "execution_count": 4,
   "metadata": {},
   "outputs": [],
   "source": [
    "for item in srcFiles:\n",
    "    inputPath = os.path.join('./lodash/', item)\n",
    "    outputPath = os.path.join('./lodash_ob/', item)\n",
    "    os.system(f'node pjs-obfuscator.js {inputPath} > {outputPath}')"
   ]
  },
  {
   "cell_type": "code",
   "execution_count": null,
   "metadata": {},
   "outputs": [],
   "source": []
  },
  {
   "cell_type": "markdown",
   "metadata": {},
   "source": [
    "Deobfus Jsjiami"
   ]
  },
  {
   "cell_type": "code",
   "execution_count": 9,
   "metadata": {},
   "outputs": [],
   "source": [
    "import simulation\n",
    "import importlib\n",
    "import re"
   ]
  },
  {
   "cell_type": "code",
   "execution_count": 52,
   "metadata": {},
   "outputs": [
    {
     "data": {
      "text/plain": [
       "<module 'simulation' from '/Users/chentianyu/Documents/temp/major/simulation.py'>"
      ]
     },
     "execution_count": 52,
     "metadata": {},
     "output_type": "execute_result"
    }
   ],
   "source": [
    "importlib.reload(simulation)"
   ]
  },
  {
   "cell_type": "code",
   "execution_count": 25,
   "metadata": {},
   "outputs": [],
   "source": [
    "temp_folder = './temp_json/'\n",
    "input_folder = './lodash_jsjiami/'\n",
    "output_folder = './lodash_deobs/'\n",
    "\n",
    "srcFiles =[item for item in os.listdir(input_folder) if not item.startswith('.') and item.endswith('.js')]"
   ]
  },
  {
   "cell_type": "code",
   "execution_count": 33,
   "metadata": {},
   "outputs": [],
   "source": [
    "importReg = 'import[^\\n]*'\n",
    "exportReg = 'export default[^\\n]*;'"
   ]
  },
  {
   "cell_type": "code",
   "execution_count": null,
   "metadata": {},
   "outputs": [],
   "source": [
    "fails = ['each.js', 'debounce.js', 'first.js', 'eachRight.js']\n",
    "\n",
    "counter = 0\n",
    "for file in srcFiles:\n",
    "    counter = counter + 1\n",
    "    if counter < 150:\n",
    "        continue\n",
    "    srcPath = os.path.join(input_folder, file)\n",
    "    with open(srcPath, 'r') as f:\n",
    "        src = f.read()\n",
    "    imp = '\\n'.join(re.findall(importReg, src))\n",
    "    exp = '\\n'.join(re.findall(exportReg, src))\n",
    "#     print(imp, exp)\n",
    "    \n",
    "    cur = re.sub(importReg, '', src)\n",
    "    cur = re.sub(exportReg, '', cur)\n",
    "\n",
    "    curPath = os.path.join(temp_folder, file)\n",
    "    print(curPath)\n",
    "    with open(curPath, 'w') as f:\n",
    "        f.write(cur)\n",
    "    targetPath = os.path.join(output_folder, file)\n",
    "\n",
    "#     print('cur', cur)\n",
    "\n",
    "    if len(cur) < 10 or file in fails:\n",
    "        os.system(f'cp {srcPath} {targetPath}')\n",
    "        continue\n",
    "\n",
    "    simulation.simulate(file, 'temp_json/', output_folder)\n",
    "    with open(targetPath, 'r') as f:\n",
    "        src = f.read()\n",
    "    with open(targetPath, 'w') as f:\n",
    "        f.write(f'{imp}\\n{src}\\n{exp}')\n",
    "#     print(imp, exp, cur)\n",
    "#     break"
   ]
  },
  {
   "cell_type": "code",
   "execution_count": null,
   "metadata": {},
   "outputs": [],
   "source": []
  },
  {
   "cell_type": "markdown",
   "metadata": {},
   "source": [
    "J-ob deobfus"
   ]
  },
  {
   "cell_type": "code",
   "execution_count": 185,
   "metadata": {},
   "outputs": [],
   "source": [
    "import sim_ob"
   ]
  },
  {
   "cell_type": "code",
   "execution_count": 201,
   "metadata": {},
   "outputs": [
    {
     "data": {
      "text/plain": [
       "<module 'sim_ob' from '/Users/chentianyu/Documents/temp/major/sim_ob.py'>"
      ]
     },
     "execution_count": 201,
     "metadata": {},
     "output_type": "execute_result"
    }
   ],
   "source": [
    "importlib.reload(sim_ob)"
   ]
  },
  {
   "cell_type": "code",
   "execution_count": 183,
   "metadata": {},
   "outputs": [],
   "source": [
    "temp_folder = './temp_job/'\n",
    "input_folder = './lodash_ob/'\n",
    "output_folder = './lodash_rec_ob_raw/'\n",
    "\n",
    "srcFiles =[item for item in os.listdir(input_folder) if not item.startswith('.') and item.endswith('.js')]"
   ]
  },
  {
   "cell_type": "code",
   "execution_count": 171,
   "metadata": {},
   "outputs": [],
   "source": [
    "importReg = 'import[^\\n]*'\n",
    "exportReg = 'export default[^\\n]*;'"
   ]
  },
  {
   "cell_type": "code",
   "execution_count": null,
   "metadata": {},
   "outputs": [],
   "source": [
    "counter = 0\n",
    "for file in srcFiles:\n",
    "    counter = counter + 1\n",
    "#     if counter > 10:\n",
    "#         break\n",
    "#     if file != 'upperFirst.js':\n",
    "#         continue\n",
    "    if counter < 60:\n",
    "        continue\n",
    "    srcPath = os.path.join(input_folder, file)\n",
    "    with open(srcPath, 'r') as f:\n",
    "        src = f.read()\n",
    "    imp = '\\n'.join(re.findall(importReg, src))\n",
    "    exp = '\\n'.join(re.findall(exportReg, src))\n",
    "    print(imp, exp)\n",
    "    \n",
    "    cur = re.sub(importReg, '', src)\n",
    "    cur = re.sub(exportReg, '', cur)\n",
    "\n",
    "    curPath = os.path.join(temp_folder, file)\n",
    "    print(curPath)\n",
    "    with open(curPath, 'w') as f:\n",
    "        f.write(cur)\n",
    "    targetPath = os.path.join(output_folder, file)\n",
    "\n",
    "#     print('cur', cur)\n",
    "\n",
    "    if len(cur) < 10 or file in fails:\n",
    "        os.system(f'cp {srcPath} {targetPath}')\n",
    "        continue\n",
    "\n",
    "    sim_ob.simulate(file, temp_folder, output_folder)\n",
    "    with open(targetPath, 'r') as f:\n",
    "        src = f.read()\n",
    "    with open(targetPath, 'w') as f:\n",
    "        f.write(f'{imp}\\n{src}\\n{exp}')\n",
    "#     print(f'{imp}\\n{src}\\n{exp}')\n",
    "#     print(imp, exp, cur)\n",
    "#     break"
   ]
  },
  {
   "cell_type": "code",
   "execution_count": null,
   "metadata": {},
   "outputs": [],
   "source": []
  },
  {
   "cell_type": "code",
   "execution_count": 64,
   "metadata": {},
   "outputs": [],
   "source": [
    "inputFileName = 'floor.js'\n",
    "inputPath = '.'\n",
    "outputPath = 'temp_job'"
   ]
  },
  {
   "cell_type": "code",
   "execution_count": 127,
   "metadata": {},
   "outputs": [],
   "source": [
    "inputFile = os.path.join(inputPath, inputFileName)\n",
    "#     print('inputFile', inputFile)\n",
    "#     inputFile = './jsdata/rand_jsjiami/' + inputFileName\n",
    "# file = open(inputFile)\n",
    "# if not os.path.exists(inputFile + '-fun'):\n",
    "#     os.mkdir(inputFile + '-fun')\n",
    "srcFile = os.popen('node pparse.js ' + inputFile, 'r')# Not sure ...'r', 1)\n",
    "syntax = json.loads(srcFile.read())\n",
    "srcFile.close()"
   ]
  },
  {
   "cell_type": "code",
   "execution_count": 111,
   "metadata": {},
   "outputs": [],
   "source": [
    "with open('temp_job/t1.json', 'w') as f:\n",
    "    json.dump(syntax, f)"
   ]
  },
  {
   "cell_type": "code",
   "execution_count": 167,
   "metadata": {},
   "outputs": [],
   "source": [
    "def DFS_alias(node, illgalFuns, decs):\n",
    "    if type(node) == dict:\n",
    "        for key in node:\n",
    "            DFS_alias(node[key], illgalFuns, decs)\n",
    "    elif type(node) == list:\n",
    "        to_remove = []\n",
    "        for item in node:\n",
    "            if item['type'] == 'VariableDeclarator' and item['id']['type'] == 'Identifier'\\\n",
    "                and item['id']['name'].startswith('_0x') and item['init']['type'] == 'Identifier'\\\n",
    "                and item['init']['name'] in illgalFuns:\n",
    "                illgalFuns.add(item['id']['name'])\n",
    "                decs.append(item)\n",
    "                to_remove.append(item)\n",
    "            else:\n",
    "                DFS_alias(item, illgalFuns, decs)\n",
    "        for item in to_remove:\n",
    "            node.remove(item)\n",
    "\n",
    "def DFS_clear(node):\n",
    "    if type(node) == dict:\n",
    "        for key in node:\n",
    "            DFS_clear(node[key])\n",
    "    elif type(node) == list:\n",
    "        to_remove = []\n",
    "        for item in node:\n",
    "            if item['type'] == 'VariableDeclaration' and len(item['declarations']) == 0:\n",
    "                to_remove.append(item)\n",
    "            else:\n",
    "                DFS_clear(item)\n",
    "        for item in to_remove:\n",
    "            node.remove(item)"
   ]
  },
  {
   "cell_type": "code",
   "execution_count": 104,
   "metadata": {},
   "outputs": [],
   "source": [
    "decs = []\n",
    "DFS_alias(syntax['body'], illgalFuns, decs)"
   ]
  },
  {
   "cell_type": "code",
   "execution_count": 105,
   "metadata": {},
   "outputs": [
    {
     "data": {
      "text/plain": [
       "[]"
      ]
     },
     "execution_count": 105,
     "metadata": {},
     "output_type": "execute_result"
    }
   ],
   "source": [
    "decs"
   ]
  },
  {
   "cell_type": "code",
   "execution_count": 128,
   "metadata": {},
   "outputs": [],
   "source": [
    "newProgram = {'type': 'Program', 'body': [], 'sourceType': 'script'}\n",
    "illgalFuns = set()\n",
    "for item in syntax['body']:\n",
    "    if item['type'] == 'ExpressionStatement':\n",
    "        newProgram['body'].append(item)\n",
    "    \n",
    "#     if item['type'] == 'VariableDeclaration':\n",
    "#         target_dec = {\"type\": \"VariableDeclaration\", \"declarations\": [], 'kind': \"const\"}\n",
    "#         for dec in item['declarations']:\n",
    "#             if dec['type'] == 'VariableDeclarator' and dec['id']['type'] == 'Identifier'\\\n",
    "#                 and dec['id']['name'].startswith('_0x'): \n",
    "#                 continue\n",
    "#                 target_dec['declarations'].append(dec)\n",
    "#                 illgalFuns.add(dec['id']['name'])\n",
    "#         if len(target_dec['declarations']) > 0:\n",
    "#             newProgram['body'].append(target_dec)\n",
    "    if item['type'] == 'FunctionDeclaration' and item['id']['type'] == 'Identifier'\\\n",
    "        and item['id']['name'].startswith('_0x'): \n",
    "        illgalFuns.add(item['id']['name'])\n",
    "        newProgram['body'].append(item)\n",
    "\n",
    "decs = []\n",
    "for item in syntax['body']:\n",
    "    if item not in newProgram['body']:\n",
    "        DFS_alias(item, illgalFuns, decs)\n",
    "        \n",
    "target_dec = {\"type\": \"VariableDeclaration\", \"declarations\": decs, 'kind': \"const\"}\n",
    "if len(target_dec['declarations']) > 0:\n",
    "    newProgram['body'].append(target_dec)\n",
    "\n"
   ]
  },
  {
   "cell_type": "code",
   "execution_count": 129,
   "metadata": {},
   "outputs": [
    {
     "data": {
      "text/plain": [
       "([{'type': 'VariableDeclarator',\n",
       "   'id': {'type': 'Identifier', 'name': '_0x2e3efa'},\n",
       "   'init': {'type': 'Identifier', 'name': '_0x1048'}}],\n",
       " {'_0x1048', '_0x1598', '_0x2e3efa'})"
      ]
     },
     "execution_count": 129,
     "metadata": {},
     "output_type": "execute_result"
    }
   ],
   "source": [
    "decs, illgalFuns"
   ]
  },
  {
   "cell_type": "code",
   "execution_count": 130,
   "metadata": {},
   "outputs": [],
   "source": [
    "illegalName = os.path.join('./temp_job', inputFileName + '.json')\n",
    "with open(illegalName, 'w') as f:\n",
    "    json.dump(newProgram, f)\n",
    "dstFile = os.popen('node ./pregenerate.js ' + illegalName, 'r')\n",
    "dstRes = dstFile.read()"
   ]
  },
  {
   "cell_type": "code",
   "execution_count": 139,
   "metadata": {},
   "outputs": [],
   "source": [
    "for item in newProgram['body']:\n",
    "    if item in syntax['body']:\n",
    "        syntax['body'].remove(item)"
   ]
  },
  {
   "cell_type": "code",
   "execution_count": 161,
   "metadata": {},
   "outputs": [],
   "source": [
    "def DFS_replace(node, nodeName, jsFun):\n",
    "    if type(node) == dict:\n",
    "        for key in node.keys():\n",
    "            next = node.get(key)\n",
    "            if type(next) == dict:\n",
    "                token = next.get('type')\n",
    "                if token == 'CallExpression' and next.get('callee').get('type') == 'Identifier'\\\n",
    "                and next.get('callee').get('name') in nodeName:\n",
    "                    funName = next.get('callee').get('name')\n",
    "                    parameters = []\n",
    "                    if 'arguments' in next.keys():\n",
    "                        for argument in next.get('arguments'):\n",
    "                            parameters.append(argument.get('value'))\n",
    "                    # print(\"parameters\", parameters, jsFun)\n",
    "#                     res = jsFun(parameters[0], parameters[1])\n",
    "                    curFun = f'{jsFun}\\n{funName}{tuple(parameters)};'\n",
    "                    curFun = curFun.replace(',)', ')')\n",
    "#                     print(\"curFun\", curFun)\n",
    "                    res = js2py.eval_js(curFun)\n",
    "                    print('res', res)\n",
    "                    newNode = {'type' : 'Literal', 'value' : res, 'raw' : '\\'' + res + '\\''}\n",
    "                    node[key] = newNode\n",
    "                    continue\n",
    "            DFS_replace(next, nodeName, jsFun)\n",
    "    elif type(node) == list:\n",
    "        for i in range(len(node)):\n",
    "            next = node[i]\n",
    "            if type(next) == dict:\n",
    "                token = next.get('type')\n",
    "                if token == 'CallExpression' and next.get('callee').get('type') == 'Identifier'\\\n",
    "                and next.get('callee').get('name') in nodeName:\n",
    "                    funName = next.get('callee').get('name')\n",
    "                    parameters = []\n",
    "                    if 'arguments' in next.keys():\n",
    "                        for argument in next.get('arguments'):\n",
    "                            parameters.append(argument.get('value'))\n",
    "#                     print(\"parameters\", parameters)\n",
    "                    curFun = f'{jsFun}\\n{funName}{tuple(parameters)};'\n",
    "                    curFun = curFun.replace(',)', ')')\n",
    "#                     print(\"curFun\", curFun)\n",
    "                    res = js2py.eval_js(curFun)\n",
    "                    print('eval res', res)\n",
    "#                     res = jsFun(parameters[0], parameters[1])\n",
    "                    # print(\"res\", res)\n",
    "                    newNode = {'type' : 'Literal', 'value' : res, 'raw' : '\\'' + res + '\\''}\n",
    "                    node[i] = newNode\n",
    "                    continue\n",
    "            DFS_replace(node[i], nodeName, jsFun)"
   ]
  },
  {
   "cell_type": "code",
   "execution_count": 141,
   "metadata": {},
   "outputs": [
    {
     "name": "stdout",
     "output_type": "stream",
     "text": [
      "{'type': 'Program', 'body': [{'type': 'VariableDeclaration', 'declarations': [], 'kind': 'const'}, {'type': 'VariableDeclaration', 'declarations': [{'type': 'VariableDeclarator', 'id': {'type': 'Identifier', 'name': 'floor'}, 'init': {'type': 'CallExpression', 'callee': {'type': 'Identifier', 'name': '_0x487f26'}, 'arguments': [{'type': 'CallExpression', 'callee': {'type': 'Identifier', 'name': '_0x2e3efa'}, 'arguments': [{'type': 'Literal', 'value': 338, 'raw': '0x152'}]}]}}], 'kind': 'const'}], 'sourceType': 'script'}\n"
     ]
    }
   ],
   "source": [
    "print(syntax)"
   ]
  },
  {
   "cell_type": "code",
   "execution_count": 156,
   "metadata": {},
   "outputs": [
    {
     "data": {
      "text/plain": [
       "(1,)"
      ]
     },
     "execution_count": 156,
     "metadata": {},
     "output_type": "execute_result"
    }
   ],
   "source": [
    "tuple([1])"
   ]
  },
  {
   "cell_type": "code",
   "execution_count": 162,
   "metadata": {},
   "outputs": [],
   "source": [
    "DFS_replace(syntax, illgalFuns, dstRes)"
   ]
  },
  {
   "cell_type": "code",
   "execution_count": 168,
   "metadata": {},
   "outputs": [],
   "source": [
    "DFS_clear(syntax)"
   ]
  },
  {
   "cell_type": "code",
   "execution_count": 169,
   "metadata": {},
   "outputs": [
    {
     "data": {
      "text/plain": [
       "0"
      ]
     },
     "execution_count": 169,
     "metadata": {},
     "output_type": "execute_result"
    }
   ],
   "source": [
    "    outputFile = os.path.join(outputPath, inputFileName)\n",
    "#     outputFile = './jsdata/rand_jsjiami_recover/' + inputFileName\n",
    "\n",
    "    newFile = open(outputFile + '-fixed.json', 'w')\n",
    "    newFile.write(json.dumps(syntax, indent = 4))\n",
    "    newFile.close()\n",
    "    # print(syntax)\n",
    "    os.system('node ./regenerate.js ' + outputFile + '-fixed.json ' + outputFile)\n",
    "\n"
   ]
  },
  {
   "cell_type": "code",
   "execution_count": 166,
   "metadata": {},
   "outputs": [
    {
     "data": {
      "text/plain": [
       "('temp_job', 'temp_job/floor.js')"
      ]
     },
     "execution_count": 166,
     "metadata": {},
     "output_type": "execute_result"
    }
   ],
   "source": [
    "outputPath, outputFile"
   ]
  },
  {
   "cell_type": "code",
   "execution_count": 122,
   "metadata": {},
   "outputs": [],
   "source": [
    "import js2py"
   ]
  },
  {
   "cell_type": "code",
   "execution_count": 126,
   "metadata": {},
   "outputs": [
    {
     "data": {
      "text/plain": [
       "1"
      ]
     },
     "execution_count": 126,
     "metadata": {},
     "output_type": "execute_result"
    }
   ],
   "source": [
    "js2py.eval_js('function f(){return 1;}; const g = f; g();')"
   ]
  },
  {
   "cell_type": "code",
   "execution_count": 132,
   "metadata": {},
   "outputs": [
    {
     "data": {
      "text/plain": [
       "'floor'"
      ]
     },
     "execution_count": 132,
     "metadata": {},
     "output_type": "execute_result"
    }
   ],
   "source": [
    "js2py.eval_js(f'{dstRes}\\n _0x2e3efa(0x152);')"
   ]
  },
  {
   "cell_type": "code",
   "execution_count": 89,
   "metadata": {},
   "outputs": [
    {
     "data": {
      "text/plain": [
       "{'_0x1048', '_0x1598'}"
      ]
     },
     "execution_count": 89,
     "metadata": {},
     "output_type": "execute_result"
    }
   ],
   "source": [
    "illgalFuns"
   ]
  }
 ],
 "metadata": {
  "kernelspec": {
   "display_name": "Python 3",
   "language": "python",
   "name": "python3"
  },
  "language_info": {
   "codemirror_mode": {
    "name": "ipython",
    "version": 3
   },
   "file_extension": ".py",
   "mimetype": "text/x-python",
   "name": "python",
   "nbconvert_exporter": "python",
   "pygments_lexer": "ipython3",
   "version": "3.8.3"
  }
 },
 "nbformat": 4,
 "nbformat_minor": 4
}
